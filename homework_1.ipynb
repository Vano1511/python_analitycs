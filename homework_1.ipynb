{
 "cells": [
  {
   "cell_type": "markdown",
   "id": "8af9f1d5",
   "metadata": {},
   "source": [
    "## Задача 2:\n",
    "### На складе лежат разные фрукты в разном количестве.\n",
    "### Нужно функцию, которая на вход принимает любое количество названий фруктов и их количество, а возвращает общее количество фруктов на складе"
   ]
  },
  {
   "cell_type": "code",
   "execution_count": 22,
   "id": "a03bdd76",
   "metadata": {},
   "outputs": [],
   "source": [
    "def fruit_counter(**fruits_dict : dict):\n",
    "    return f\"на складе фруктов всего: {sum(fruits_dict.values())}\""
   ]
  },
  {
   "cell_type": "code",
   "execution_count": 24,
   "id": "3bf287e2",
   "metadata": {},
   "outputs": [
    {
     "data": {
      "text/plain": [
       "'на складе фруктов всего: 62'"
      ]
     },
     "execution_count": 24,
     "metadata": {},
     "output_type": "execute_result"
    }
   ],
   "source": [
    "fruits1 = {\"apple\": 15, \"pear\": 4, \"pineapple\": 43}\n",
    "fruit_counter(**fruits1)"
   ]
  },
  {
   "cell_type": "code",
   "execution_count": 23,
   "id": "4e71f08b",
   "metadata": {
    "scrolled": true
   },
   "outputs": [
    {
     "data": {
      "text/plain": [
       "'на складе фруктов всего: 49'"
      ]
     },
     "execution_count": 23,
     "metadata": {},
     "output_type": "execute_result"
    }
   ],
   "source": [
    "fruit_counter(**{\"oranges\": 16, \"kiwies\": 24, \"coconuts\": 9})"
   ]
  },
  {
   "cell_type": "markdown",
   "id": "778d8aa4",
   "metadata": {},
   "source": [
    "## Задача 3:\n",
    "### Дан список с затратами на рекламу. Но в данных есть ошибки, некоторые затраты имеют отрицательную величину. Удалите такие значения из списка и посчитайте суммарные затраты\n",
    "[100, 125, -90, 345, 655, -1, 0, 200]\n",
    "### Используйте list comprehensions"
   ]
  },
  {
   "cell_type": "code",
   "execution_count": 2,
   "id": "98b3bc82",
   "metadata": {},
   "outputs": [],
   "source": [
    "marketing_costs = [100, 125, -90, 345, 655, -1, 0, 200]"
   ]
  },
  {
   "cell_type": "code",
   "execution_count": 4,
   "id": "7ec7f4cc",
   "metadata": {},
   "outputs": [],
   "source": [
    "def costs_validator(costs: list):\n",
    "    return [el if el > 0 else 0 for el in costs]"
   ]
  },
  {
   "cell_type": "code",
   "execution_count": 5,
   "id": "6b289007",
   "metadata": {},
   "outputs": [
    {
     "data": {
      "text/plain": [
       "1425"
      ]
     },
     "execution_count": 5,
     "metadata": {},
     "output_type": "execute_result"
    }
   ],
   "source": [
    "sum(costs_validator(marketing_costs))"
   ]
  },
  {
   "cell_type": "markdown",
   "id": "14c09097",
   "metadata": {},
   "source": [
    "## Условие 4:\n",
    "### Даны два списка.\n",
    "### Дата покупки\n",
    "['2021-09-14', '2021-12-15', '2021-09-08', '2021-12-05', '2021-10-09', '2021-09-30', '2021-12-22', '2021-11-29', '2021-12-24', '2021-11-26', '2021-10-27', '2021-12-18', '2021-11-09', '2021-11-23', '2021-09-27', '2021-10-02', '2021-12-27', '2021-09-20', '2021-12-13', '2021-11-01', '2021-11-09', '2021-12-06', '2021-12-08', '2021-10-09', '2021-10-31', '2021-09-30', '2021-11-09', '2021-12-13', '2021-10-26', '2021-12-09']\n",
    "### Суммы покупок по датам\n",
    "[1270, 8413, 9028, 3703, 5739, 4095, 295, 4944, 5723, 3701, 4471, 651, 7037, 4274, 6275, 4988, 6930, 2971, 6592, 2004, 2822, 519, 3406, 2732, 5015, 2008, 316, 6333, 5700, 2887]"
   ]
  },
  {
   "cell_type": "markdown",
   "id": "5e50b0d2",
   "metadata": {},
   "source": [
    "### 4.1 Найдите, какая выручка у компании в ноябре\n",
    "### Используйте list comprehensions"
   ]
  },
  {
   "cell_type": "code",
   "execution_count": 29,
   "id": "4076a14f",
   "metadata": {},
   "outputs": [],
   "source": [
    "dates_of_orders = ['2021-09-14', '2021-12-15', '2021-09-08', '2021-12-05', '2021-10-09', '2021-09-30', \n",
    "                   '2021-12-22', '2021-11-29', '2021-12-24', '2021-11-26', '2021-10-27', '2021-12-18', \n",
    "                   '2021-11-09', '2021-11-23', '2021-09-27', '2021-10-02', '2021-12-27', '2021-09-20', \n",
    "                   '2021-12-13', '2021-11-01', '2021-11-09', '2021-12-06', '2021-12-08', '2021-10-09', \n",
    "                   '2021-10-31', '2021-09-30', '2021-11-09', '2021-12-13', '2021-10-26', '2021-12-09']\n",
    "values_of_orders = [1270, 8413, 9028, 3703, 5739, 4095, 295, 4944, 5723, 3701, 4471, 651, 7037, 4274, \n",
    "                    6275, 4988, 6930, 2971, 6592, 2004, 2822, 519, 3406, 2732, 5015, 2008, 316, 6333, 5700, 2887]"
   ]
  },
  {
   "cell_type": "code",
   "execution_count": 42,
   "id": "82ef8e8b",
   "metadata": {
    "scrolled": true
   },
   "outputs": [
    {
     "data": {
      "text/plain": [
       "25098"
      ]
     },
     "execution_count": 42,
     "metadata": {},
     "output_type": "execute_result"
    }
   ],
   "source": [
    "def sum_of_month(number_of_month: int, dates: list, sales: list):\n",
    "    return sum([sales[_] for _ in range(len(sales)) if dates[_][5:7] == format(number_of_month, \"02d\")])\n",
    "sum_of_month(11, dates_of_orders, values_of_orders)"
   ]
  },
  {
   "cell_type": "markdown",
   "id": "7669884f",
   "metadata": {},
   "source": [
    "## 4.2 Найдите выручку компании в зависимости от месяца\n",
    "### Для этого напишите функцию, которая на вход принимает список с датами и список с выручкой, а на выходе словарь, где ключи - это месяцы, а значения - это выручка.\n",
    "### Используйте аннотирование типов."
   ]
  },
  {
   "cell_type": "code",
   "execution_count": 43,
   "id": "2db86265",
   "metadata": {},
   "outputs": [
    {
     "data": {
      "text/plain": [
       "{'1': 0,\n",
       " '2': 0,\n",
       " '3': 0,\n",
       " '4': 0,\n",
       " '5': 0,\n",
       " '6': 0,\n",
       " '7': 0,\n",
       " '8': 0,\n",
       " '9': 25647,\n",
       " '10': 28645,\n",
       " '11': 25098,\n",
       " '12': 45452}"
      ]
     },
     "execution_count": 43,
     "metadata": {},
     "output_type": "execute_result"
    }
   ],
   "source": [
    "def month_sales(dates: list, sales: list):\n",
    "    return {str(month): sum_of_month(month, dates, sales) for month in range(1, 13)}\n",
    "month_sales(dates_of_orders, values_of_orders)"
   ]
  }
 ],
 "metadata": {
  "kernelspec": {
   "display_name": "Python 3 (ipykernel)",
   "language": "python",
   "name": "python3"
  },
  "language_info": {
   "codemirror_mode": {
    "name": "ipython",
    "version": 3
   },
   "file_extension": ".py",
   "mimetype": "text/x-python",
   "name": "python",
   "nbconvert_exporter": "python",
   "pygments_lexer": "ipython3",
   "version": "3.9.13"
  }
 },
 "nbformat": 4,
 "nbformat_minor": 5
}
